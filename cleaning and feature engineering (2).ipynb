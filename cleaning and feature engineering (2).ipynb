{
 "cells": [
  {
   "metadata": {},
   "cell_type": "markdown",
   "source": "Loading the raw, scraped csv file and cleaning it for further use",
   "id": "868960059e32d339"
  },
  {
   "metadata": {
    "collapsed": true,
    "ExecuteTime": {
     "end_time": "2025-10-16T12:08:50.677916Z",
     "start_time": "2025-10-16T12:08:50.669153Z"
    }
   },
   "cell_type": "code",
   "source": [
    "import pandas as pd\n",
    "import re\n",
    "import numpy as np"
   ],
   "id": "db6ce77183631377",
   "outputs": [],
   "execution_count": 62
  },
  {
   "metadata": {
    "ExecuteTime": {
     "end_time": "2025-10-16T12:08:50.889885Z",
     "start_time": "2025-10-16T12:08:50.731692Z"
    }
   },
   "cell_type": "code",
   "source": "df_scraped = pd.read_csv(r\"C:\\Users\\sahil\\OneDrive\\Desktop\\Real-Estate-Scrape-Clean-Model\\scraped_listings_cards.csv\")",
   "id": "2110bc6c9444b348",
   "outputs": [],
   "execution_count": 63
  },
  {
   "metadata": {
    "ExecuteTime": {
     "end_time": "2025-10-16T12:08:50.948330Z",
     "start_time": "2025-10-16T12:08:50.917577Z"
    }
   },
   "cell_type": "code",
   "source": "df_scraped.head()",
   "id": "a296b1b05baa7730",
   "outputs": [
    {
     "data": {
      "text/plain": [
       "                                               title  \\\n",
       "0  4 BHK Flat  for Sale in Sector 107, Dadri Road...   \n",
       "1          4 BHK Flat  for Sale in Sector 115, Noida   \n",
       "2          3 BHK Flat  for Sale in Sector 115, Noida   \n",
       "3          3 BHK Flat  for Sale in Sector 115, Noida   \n",
       "4     3 BHK Flat  for Sale in Noida Extension, Noida   \n",
       "\n",
       "                                         listing_url   area_raw  \\\n",
       "0  https://www.magicbricks.com/propertyDetails/4-...  2500 sqft   \n",
       "1  https://www.magicbricks.com/propertyDetails/4-...  2799 sqft   \n",
       "2  https://www.magicbricks.com/propertyDetails/3-...  2304 sqft   \n",
       "3  https://www.magicbricks.com/propertyDetails/3-...  2034 sqft   \n",
       "4  https://www.magicbricks.com/propertyDetails/3-...  1500 sqft   \n",
       "\n",
       "          status         floor   transaction      furnishing        facing  \\\n",
       "0  Ready to Move  10 out of 21  New Property  Semi-Furnished  North - East   \n",
       "1            NaN   3 out of 30        Resale     Unfurnished          East   \n",
       "2            NaN   6 out of 29        Resale     Unfurnished  North - East   \n",
       "3            NaN   4 out of 29        Resale  Semi-Furnished  North - East   \n",
       "4  Ready to Move            16  New Property     Unfurnished           NaN   \n",
       "\n",
       "   bhk                       locality           property_id  \\\n",
       "0    4  Sector 107, Dadri Road, Noida  4d423737303639353531   \n",
       "1    4              Sector 115, Noida  4d423734393234333837   \n",
       "2    3              Sector 115, Noida  4d423733363731353533   \n",
       "3    3              Sector 115, Noida  4d423737393939333233   \n",
       "4    3         Noida Extension, Noida  4d423830393239303733   \n",
       "\n",
       "                  scraped_timestamp price_raw  \n",
       "0  2025-10-15T17:58:54.049268+00:00  ₹4.40 Cr  \n",
       "1  2025-10-15T17:58:54.057645+00:00  ₹4.25 Cr  \n",
       "2  2025-10-15T17:58:54.063499+00:00  ₹3.10 Cr  \n",
       "3  2025-10-15T17:58:54.065990+00:00  ₹3.35 Cr  \n",
       "4  2025-10-15T17:58:54.071491+00:00  ₹1.35 Cr  "
      ],
      "text/html": [
       "<div>\n",
       "<style scoped>\n",
       "    .dataframe tbody tr th:only-of-type {\n",
       "        vertical-align: middle;\n",
       "    }\n",
       "\n",
       "    .dataframe tbody tr th {\n",
       "        vertical-align: top;\n",
       "    }\n",
       "\n",
       "    .dataframe thead th {\n",
       "        text-align: right;\n",
       "    }\n",
       "</style>\n",
       "<table border=\"1\" class=\"dataframe\">\n",
       "  <thead>\n",
       "    <tr style=\"text-align: right;\">\n",
       "      <th></th>\n",
       "      <th>title</th>\n",
       "      <th>listing_url</th>\n",
       "      <th>area_raw</th>\n",
       "      <th>status</th>\n",
       "      <th>floor</th>\n",
       "      <th>transaction</th>\n",
       "      <th>furnishing</th>\n",
       "      <th>facing</th>\n",
       "      <th>bhk</th>\n",
       "      <th>locality</th>\n",
       "      <th>property_id</th>\n",
       "      <th>scraped_timestamp</th>\n",
       "      <th>price_raw</th>\n",
       "    </tr>\n",
       "  </thead>\n",
       "  <tbody>\n",
       "    <tr>\n",
       "      <th>0</th>\n",
       "      <td>4 BHK Flat  for Sale in Sector 107, Dadri Road...</td>\n",
       "      <td>https://www.magicbricks.com/propertyDetails/4-...</td>\n",
       "      <td>2500 sqft</td>\n",
       "      <td>Ready to Move</td>\n",
       "      <td>10 out of 21</td>\n",
       "      <td>New Property</td>\n",
       "      <td>Semi-Furnished</td>\n",
       "      <td>North - East</td>\n",
       "      <td>4</td>\n",
       "      <td>Sector 107, Dadri Road, Noida</td>\n",
       "      <td>4d423737303639353531</td>\n",
       "      <td>2025-10-15T17:58:54.049268+00:00</td>\n",
       "      <td>₹4.40 Cr</td>\n",
       "    </tr>\n",
       "    <tr>\n",
       "      <th>1</th>\n",
       "      <td>4 BHK Flat  for Sale in Sector 115, Noida</td>\n",
       "      <td>https://www.magicbricks.com/propertyDetails/4-...</td>\n",
       "      <td>2799 sqft</td>\n",
       "      <td>NaN</td>\n",
       "      <td>3 out of 30</td>\n",
       "      <td>Resale</td>\n",
       "      <td>Unfurnished</td>\n",
       "      <td>East</td>\n",
       "      <td>4</td>\n",
       "      <td>Sector 115, Noida</td>\n",
       "      <td>4d423734393234333837</td>\n",
       "      <td>2025-10-15T17:58:54.057645+00:00</td>\n",
       "      <td>₹4.25 Cr</td>\n",
       "    </tr>\n",
       "    <tr>\n",
       "      <th>2</th>\n",
       "      <td>3 BHK Flat  for Sale in Sector 115, Noida</td>\n",
       "      <td>https://www.magicbricks.com/propertyDetails/3-...</td>\n",
       "      <td>2304 sqft</td>\n",
       "      <td>NaN</td>\n",
       "      <td>6 out of 29</td>\n",
       "      <td>Resale</td>\n",
       "      <td>Unfurnished</td>\n",
       "      <td>North - East</td>\n",
       "      <td>3</td>\n",
       "      <td>Sector 115, Noida</td>\n",
       "      <td>4d423733363731353533</td>\n",
       "      <td>2025-10-15T17:58:54.063499+00:00</td>\n",
       "      <td>₹3.10 Cr</td>\n",
       "    </tr>\n",
       "    <tr>\n",
       "      <th>3</th>\n",
       "      <td>3 BHK Flat  for Sale in Sector 115, Noida</td>\n",
       "      <td>https://www.magicbricks.com/propertyDetails/3-...</td>\n",
       "      <td>2034 sqft</td>\n",
       "      <td>NaN</td>\n",
       "      <td>4 out of 29</td>\n",
       "      <td>Resale</td>\n",
       "      <td>Semi-Furnished</td>\n",
       "      <td>North - East</td>\n",
       "      <td>3</td>\n",
       "      <td>Sector 115, Noida</td>\n",
       "      <td>4d423737393939333233</td>\n",
       "      <td>2025-10-15T17:58:54.065990+00:00</td>\n",
       "      <td>₹3.35 Cr</td>\n",
       "    </tr>\n",
       "    <tr>\n",
       "      <th>4</th>\n",
       "      <td>3 BHK Flat  for Sale in Noida Extension, Noida</td>\n",
       "      <td>https://www.magicbricks.com/propertyDetails/3-...</td>\n",
       "      <td>1500 sqft</td>\n",
       "      <td>Ready to Move</td>\n",
       "      <td>16</td>\n",
       "      <td>New Property</td>\n",
       "      <td>Unfurnished</td>\n",
       "      <td>NaN</td>\n",
       "      <td>3</td>\n",
       "      <td>Noida Extension, Noida</td>\n",
       "      <td>4d423830393239303733</td>\n",
       "      <td>2025-10-15T17:58:54.071491+00:00</td>\n",
       "      <td>₹1.35 Cr</td>\n",
       "    </tr>\n",
       "  </tbody>\n",
       "</table>\n",
       "</div>"
      ]
     },
     "execution_count": 64,
     "metadata": {},
     "output_type": "execute_result"
    }
   ],
   "execution_count": 64
  },
  {
   "metadata": {
    "ExecuteTime": {
     "end_time": "2025-10-16T12:08:51.075223Z",
     "start_time": "2025-10-16T12:08:51.061055Z"
    }
   },
   "cell_type": "code",
   "source": "df_scraped.shape",
   "id": "668895749a0586f0",
   "outputs": [
    {
     "data": {
      "text/plain": [
       "(3213, 13)"
      ]
     },
     "execution_count": 65,
     "metadata": {},
     "output_type": "execute_result"
    }
   ],
   "execution_count": 65
  },
  {
   "metadata": {
    "ExecuteTime": {
     "end_time": "2025-10-16T12:08:51.476110Z",
     "start_time": "2025-10-16T12:08:51.362300Z"
    }
   },
   "cell_type": "code",
   "source": "df_scraped.info()",
   "id": "135aaa8a460ce989",
   "outputs": [
    {
     "name": "stdout",
     "output_type": "stream",
     "text": [
      "<class 'pandas.core.frame.DataFrame'>\n",
      "RangeIndex: 3213 entries, 0 to 3212\n",
      "Data columns (total 13 columns):\n",
      " #   Column             Non-Null Count  Dtype \n",
      "---  ------             --------------  ----- \n",
      " 0   title              3213 non-null   object\n",
      " 1   listing_url        3213 non-null   object\n",
      " 2   area_raw           3205 non-null   object\n",
      " 3   status             2467 non-null   object\n",
      " 4   floor              2613 non-null   object\n",
      " 5   transaction        3208 non-null   object\n",
      " 6   furnishing         3074 non-null   object\n",
      " 7   facing             1974 non-null   object\n",
      " 8   bhk                3213 non-null   int64 \n",
      " 9   locality           3213 non-null   object\n",
      " 10  property_id        3213 non-null   object\n",
      " 11  scraped_timestamp  3213 non-null   object\n",
      " 12  price_raw          3213 non-null   object\n",
      "dtypes: int64(1), object(12)\n",
      "memory usage: 326.4+ KB\n"
     ]
    }
   ],
   "execution_count": 66
  },
  {
   "metadata": {
    "ExecuteTime": {
     "end_time": "2025-10-16T12:08:51.776699Z",
     "start_time": "2025-10-16T12:08:51.758852Z"
    }
   },
   "cell_type": "code",
   "source": "df_scraped.columns.tolist()",
   "id": "1ca26a1d92a21a24",
   "outputs": [
    {
     "data": {
      "text/plain": [
       "['title',\n",
       " 'listing_url',\n",
       " 'area_raw',\n",
       " 'status',\n",
       " 'floor',\n",
       " 'transaction',\n",
       " 'furnishing',\n",
       " 'facing',\n",
       " 'bhk',\n",
       " 'locality',\n",
       " 'property_id',\n",
       " 'scraped_timestamp',\n",
       " 'price_raw']"
      ]
     },
     "execution_count": 67,
     "metadata": {},
     "output_type": "execute_result"
    }
   ],
   "execution_count": 67
  },
  {
   "metadata": {
    "ExecuteTime": {
     "end_time": "2025-10-16T12:08:51.995172Z",
     "start_time": "2025-10-16T12:08:51.901915Z"
    }
   },
   "cell_type": "code",
   "source": "df_scraped.describe(include='all').T",
   "id": "74334156b626cc69",
   "outputs": [
    {
     "data": {
      "text/plain": [
       "                    count unique  \\\n",
       "title                3213    488   \n",
       "listing_url          3213   1878   \n",
       "area_raw             3205    657   \n",
       "status               2467      1   \n",
       "floor                2613    555   \n",
       "transaction          3208      3   \n",
       "furnishing           3074      3   \n",
       "facing               1974      8   \n",
       "bhk                3213.0    NaN   \n",
       "locality             3213    295   \n",
       "property_id          3213   1878   \n",
       "scraped_timestamp    3213   3213   \n",
       "price_raw            3213    446   \n",
       "\n",
       "                                                                 top  freq  \\\n",
       "title                 3 BHK Flat  for Sale in Noida Extension, Noida   349   \n",
       "listing_url        https://www.magicbricks.com/propertyDetails/3-...    39   \n",
       "area_raw                                                   1500 sqft    74   \n",
       "status                                                 Ready to Move  2467   \n",
       "floor                                                     1 out of 4    59   \n",
       "transaction                                                   Resale  2461   \n",
       "furnishing                                            Semi-Furnished  1754   \n",
       "facing                                                  North - East   889   \n",
       "bhk                                                              NaN   NaN   \n",
       "locality                                      Noida Extension, Noida   467   \n",
       "property_id                                     4d423737303335323833    39   \n",
       "scraped_timestamp                   2025-10-15T17:58:54.049268+00:00     1   \n",
       "price_raw                                                   ₹4.50 Cr    88   \n",
       "\n",
       "                       mean       std  min  25%  50%  75%  max  \n",
       "title                   NaN       NaN  NaN  NaN  NaN  NaN  NaN  \n",
       "listing_url             NaN       NaN  NaN  NaN  NaN  NaN  NaN  \n",
       "area_raw                NaN       NaN  NaN  NaN  NaN  NaN  NaN  \n",
       "status                  NaN       NaN  NaN  NaN  NaN  NaN  NaN  \n",
       "floor                   NaN       NaN  NaN  NaN  NaN  NaN  NaN  \n",
       "transaction             NaN       NaN  NaN  NaN  NaN  NaN  NaN  \n",
       "furnishing              NaN       NaN  NaN  NaN  NaN  NaN  NaN  \n",
       "facing                  NaN       NaN  NaN  NaN  NaN  NaN  NaN  \n",
       "bhk                3.269841  0.819487  1.0  3.0  3.0  4.0  5.0  \n",
       "locality                NaN       NaN  NaN  NaN  NaN  NaN  NaN  \n",
       "property_id             NaN       NaN  NaN  NaN  NaN  NaN  NaN  \n",
       "scraped_timestamp       NaN       NaN  NaN  NaN  NaN  NaN  NaN  \n",
       "price_raw               NaN       NaN  NaN  NaN  NaN  NaN  NaN  "
      ],
      "text/html": [
       "<div>\n",
       "<style scoped>\n",
       "    .dataframe tbody tr th:only-of-type {\n",
       "        vertical-align: middle;\n",
       "    }\n",
       "\n",
       "    .dataframe tbody tr th {\n",
       "        vertical-align: top;\n",
       "    }\n",
       "\n",
       "    .dataframe thead th {\n",
       "        text-align: right;\n",
       "    }\n",
       "</style>\n",
       "<table border=\"1\" class=\"dataframe\">\n",
       "  <thead>\n",
       "    <tr style=\"text-align: right;\">\n",
       "      <th></th>\n",
       "      <th>count</th>\n",
       "      <th>unique</th>\n",
       "      <th>top</th>\n",
       "      <th>freq</th>\n",
       "      <th>mean</th>\n",
       "      <th>std</th>\n",
       "      <th>min</th>\n",
       "      <th>25%</th>\n",
       "      <th>50%</th>\n",
       "      <th>75%</th>\n",
       "      <th>max</th>\n",
       "    </tr>\n",
       "  </thead>\n",
       "  <tbody>\n",
       "    <tr>\n",
       "      <th>title</th>\n",
       "      <td>3213</td>\n",
       "      <td>488</td>\n",
       "      <td>3 BHK Flat  for Sale in Noida Extension, Noida</td>\n",
       "      <td>349</td>\n",
       "      <td>NaN</td>\n",
       "      <td>NaN</td>\n",
       "      <td>NaN</td>\n",
       "      <td>NaN</td>\n",
       "      <td>NaN</td>\n",
       "      <td>NaN</td>\n",
       "      <td>NaN</td>\n",
       "    </tr>\n",
       "    <tr>\n",
       "      <th>listing_url</th>\n",
       "      <td>3213</td>\n",
       "      <td>1878</td>\n",
       "      <td>https://www.magicbricks.com/propertyDetails/3-...</td>\n",
       "      <td>39</td>\n",
       "      <td>NaN</td>\n",
       "      <td>NaN</td>\n",
       "      <td>NaN</td>\n",
       "      <td>NaN</td>\n",
       "      <td>NaN</td>\n",
       "      <td>NaN</td>\n",
       "      <td>NaN</td>\n",
       "    </tr>\n",
       "    <tr>\n",
       "      <th>area_raw</th>\n",
       "      <td>3205</td>\n",
       "      <td>657</td>\n",
       "      <td>1500 sqft</td>\n",
       "      <td>74</td>\n",
       "      <td>NaN</td>\n",
       "      <td>NaN</td>\n",
       "      <td>NaN</td>\n",
       "      <td>NaN</td>\n",
       "      <td>NaN</td>\n",
       "      <td>NaN</td>\n",
       "      <td>NaN</td>\n",
       "    </tr>\n",
       "    <tr>\n",
       "      <th>status</th>\n",
       "      <td>2467</td>\n",
       "      <td>1</td>\n",
       "      <td>Ready to Move</td>\n",
       "      <td>2467</td>\n",
       "      <td>NaN</td>\n",
       "      <td>NaN</td>\n",
       "      <td>NaN</td>\n",
       "      <td>NaN</td>\n",
       "      <td>NaN</td>\n",
       "      <td>NaN</td>\n",
       "      <td>NaN</td>\n",
       "    </tr>\n",
       "    <tr>\n",
       "      <th>floor</th>\n",
       "      <td>2613</td>\n",
       "      <td>555</td>\n",
       "      <td>1 out of 4</td>\n",
       "      <td>59</td>\n",
       "      <td>NaN</td>\n",
       "      <td>NaN</td>\n",
       "      <td>NaN</td>\n",
       "      <td>NaN</td>\n",
       "      <td>NaN</td>\n",
       "      <td>NaN</td>\n",
       "      <td>NaN</td>\n",
       "    </tr>\n",
       "    <tr>\n",
       "      <th>transaction</th>\n",
       "      <td>3208</td>\n",
       "      <td>3</td>\n",
       "      <td>Resale</td>\n",
       "      <td>2461</td>\n",
       "      <td>NaN</td>\n",
       "      <td>NaN</td>\n",
       "      <td>NaN</td>\n",
       "      <td>NaN</td>\n",
       "      <td>NaN</td>\n",
       "      <td>NaN</td>\n",
       "      <td>NaN</td>\n",
       "    </tr>\n",
       "    <tr>\n",
       "      <th>furnishing</th>\n",
       "      <td>3074</td>\n",
       "      <td>3</td>\n",
       "      <td>Semi-Furnished</td>\n",
       "      <td>1754</td>\n",
       "      <td>NaN</td>\n",
       "      <td>NaN</td>\n",
       "      <td>NaN</td>\n",
       "      <td>NaN</td>\n",
       "      <td>NaN</td>\n",
       "      <td>NaN</td>\n",
       "      <td>NaN</td>\n",
       "    </tr>\n",
       "    <tr>\n",
       "      <th>facing</th>\n",
       "      <td>1974</td>\n",
       "      <td>8</td>\n",
       "      <td>North - East</td>\n",
       "      <td>889</td>\n",
       "      <td>NaN</td>\n",
       "      <td>NaN</td>\n",
       "      <td>NaN</td>\n",
       "      <td>NaN</td>\n",
       "      <td>NaN</td>\n",
       "      <td>NaN</td>\n",
       "      <td>NaN</td>\n",
       "    </tr>\n",
       "    <tr>\n",
       "      <th>bhk</th>\n",
       "      <td>3213.0</td>\n",
       "      <td>NaN</td>\n",
       "      <td>NaN</td>\n",
       "      <td>NaN</td>\n",
       "      <td>3.269841</td>\n",
       "      <td>0.819487</td>\n",
       "      <td>1.0</td>\n",
       "      <td>3.0</td>\n",
       "      <td>3.0</td>\n",
       "      <td>4.0</td>\n",
       "      <td>5.0</td>\n",
       "    </tr>\n",
       "    <tr>\n",
       "      <th>locality</th>\n",
       "      <td>3213</td>\n",
       "      <td>295</td>\n",
       "      <td>Noida Extension, Noida</td>\n",
       "      <td>467</td>\n",
       "      <td>NaN</td>\n",
       "      <td>NaN</td>\n",
       "      <td>NaN</td>\n",
       "      <td>NaN</td>\n",
       "      <td>NaN</td>\n",
       "      <td>NaN</td>\n",
       "      <td>NaN</td>\n",
       "    </tr>\n",
       "    <tr>\n",
       "      <th>property_id</th>\n",
       "      <td>3213</td>\n",
       "      <td>1878</td>\n",
       "      <td>4d423737303335323833</td>\n",
       "      <td>39</td>\n",
       "      <td>NaN</td>\n",
       "      <td>NaN</td>\n",
       "      <td>NaN</td>\n",
       "      <td>NaN</td>\n",
       "      <td>NaN</td>\n",
       "      <td>NaN</td>\n",
       "      <td>NaN</td>\n",
       "    </tr>\n",
       "    <tr>\n",
       "      <th>scraped_timestamp</th>\n",
       "      <td>3213</td>\n",
       "      <td>3213</td>\n",
       "      <td>2025-10-15T17:58:54.049268+00:00</td>\n",
       "      <td>1</td>\n",
       "      <td>NaN</td>\n",
       "      <td>NaN</td>\n",
       "      <td>NaN</td>\n",
       "      <td>NaN</td>\n",
       "      <td>NaN</td>\n",
       "      <td>NaN</td>\n",
       "      <td>NaN</td>\n",
       "    </tr>\n",
       "    <tr>\n",
       "      <th>price_raw</th>\n",
       "      <td>3213</td>\n",
       "      <td>446</td>\n",
       "      <td>₹4.50 Cr</td>\n",
       "      <td>88</td>\n",
       "      <td>NaN</td>\n",
       "      <td>NaN</td>\n",
       "      <td>NaN</td>\n",
       "      <td>NaN</td>\n",
       "      <td>NaN</td>\n",
       "      <td>NaN</td>\n",
       "      <td>NaN</td>\n",
       "    </tr>\n",
       "  </tbody>\n",
       "</table>\n",
       "</div>"
      ]
     },
     "execution_count": 68,
     "metadata": {},
     "output_type": "execute_result"
    }
   ],
   "execution_count": 68
  },
  {
   "metadata": {
    "ExecuteTime": {
     "end_time": "2025-10-16T12:08:52.091373Z",
     "start_time": "2025-10-16T12:08:52.082501Z"
    }
   },
   "cell_type": "code",
   "source": [
    "# --- Define Price Cleaning Function ---\n",
    "def clean_price(price):\n",
    "    if pd.isna(price) or price == 'Price on Request':\n",
    "        return np.nan\n",
    "\n",
    "    # Remove currency symbol and commas\n",
    "    price = str(price).replace('₹', '').replace(',', '').strip()\n",
    "\n",
    "    # Check for unit (Cr or Lac)\n",
    "    if 'Cr' in price:\n",
    "        # Convert Crores to Lakhs (1 Cr = 100 Lakhs)\n",
    "        try:\n",
    "            value = float(re.findall(r\"(\\d+\\.?\\d*)\", price)[0])\n",
    "            return value * 100\n",
    "        except:\n",
    "            return np.nan\n",
    "    elif 'Lac' in price:\n",
    "        # Convert Lac to Lakhs (already in lakhs)\n",
    "        try:\n",
    "            value = float(re.findall(r\"(\\d+\\.?\\d*)\", price)[0])\n",
    "            return value\n",
    "        except:\n",
    "            return np.nan\n",
    "    else:\n",
    "        # Catch any remaining outliers or strange formats\n",
    "        return np.nan"
   ],
   "id": "b738d2a5374fcefc",
   "outputs": [],
   "execution_count": 69
  },
  {
   "metadata": {
    "ExecuteTime": {
     "end_time": "2025-10-16T12:08:52.319075Z",
     "start_time": "2025-10-16T12:08:52.300510Z"
    }
   },
   "cell_type": "code",
   "source": "df_scraped['price_in_lacs'] = df_scraped['price_raw'].apply(clean_price)",
   "id": "7db23cf0cc0ec8ee",
   "outputs": [],
   "execution_count": 70
  },
  {
   "metadata": {
    "ExecuteTime": {
     "end_time": "2025-10-16T12:08:52.451753Z",
     "start_time": "2025-10-16T12:08:52.437264Z"
    }
   },
   "cell_type": "code",
   "source": [
    "print(\"Price distribution after cleaning:\")\n",
    "print(df_scraped['price_in_lacs'].describe())"
   ],
   "id": "1c1707e1609d5e95",
   "outputs": [
    {
     "name": "stdout",
     "output_type": "stream",
     "text": [
      "Price distribution after cleaning:\n",
      "count    3142.000000\n",
      "mean      317.788988\n",
      "std       307.974665\n",
      "min         1.000000\n",
      "25%       125.000000\n",
      "50%       220.000000\n",
      "75%       400.000000\n",
      "max      2350.000000\n",
      "Name: price_in_lacs, dtype: float64\n"
     ]
    }
   ],
   "execution_count": 71
  },
  {
   "metadata": {
    "ExecuteTime": {
     "end_time": "2025-10-16T12:08:52.526725Z",
     "start_time": "2025-10-16T12:08:52.517028Z"
    }
   },
   "cell_type": "code",
   "source": "df_scraped['price_in_lacs']",
   "id": "41d53d650137b6f7",
   "outputs": [
    {
     "data": {
      "text/plain": [
       "0       440.0\n",
       "1       425.0\n",
       "2       310.0\n",
       "3       335.0\n",
       "4       135.0\n",
       "        ...  \n",
       "3208    440.0\n",
       "3209    440.0\n",
       "3210    440.0\n",
       "3211    440.0\n",
       "3212    440.0\n",
       "Name: price_in_lacs, Length: 3213, dtype: float64"
      ]
     },
     "execution_count": 72,
     "metadata": {},
     "output_type": "execute_result"
    }
   ],
   "execution_count": 72
  },
  {
   "metadata": {
    "ExecuteTime": {
     "end_time": "2025-10-16T12:08:52.635161Z",
     "start_time": "2025-10-16T12:08:52.619892Z"
    }
   },
   "cell_type": "code",
   "source": "df_scraped = df_scraped.drop(columns=['price_raw'])",
   "id": "a91a2b6284b7b49e",
   "outputs": [],
   "execution_count": 73
  },
  {
   "metadata": {
    "ExecuteTime": {
     "end_time": "2025-10-16T12:08:52.829370Z",
     "start_time": "2025-10-16T12:08:52.807502Z"
    }
   },
   "cell_type": "code",
   "source": "df_scraped['area_raw'].unique()",
   "id": "9dc59f7465d3f1aa",
   "outputs": [
    {
     "data": {
      "text/plain": [
       "array(['2500 sqft', '2799 sqft', '2304 sqft', '2034 sqft', '1500 sqft',\n",
       "       '2794 sqft', '2105 sqft', '1650 sqft', '4085 sqft', '2827 sqft',\n",
       "       '2405 sqft', '1000 sqft', '2350 sqft', '4075 sqft', '1150 sqft',\n",
       "       '1995 sqft', '1395 sqft', '6300 sqft', '300 sqm', '1577 sqft',\n",
       "       '4507 sqft', '2166 sqft', '1020 sqft', '1810 sqft', '1755 sqft',\n",
       "       '400 sqft', '450 sqm', '1086 sqft', '1076 sqft', '1250 sqft',\n",
       "       '4100 sqft', '922 sqft', '1130 sqft', '1860 sqft', '2150 sqft',\n",
       "       '1800 sqft', '844 sqft', '1300 sqft', '1380 sqft', '200 sqm',\n",
       "       '1560 sqft', '1484 sqft', '1900 sqft', '2400 sqft', '820 sqft',\n",
       "       '833 sqft', '2600 sqft', '1275 sqft', '1350 sqft', '1608 sqft',\n",
       "       '1795 sqft', '2085 sqft', '1313 sqft', '2845 sqft', '2200 sqft',\n",
       "       '2251 sqft', '1208 sqft', '1400 sqft', '4775 sqft', '1440 sqft',\n",
       "       '3200 sqft', '3225 sqft', '4208 sqft', '1775 sqft', '3904 sqft',\n",
       "       '1565 sqft', '1974 sqft', '3341 sqft', '3987 sqft', '1205 sqft',\n",
       "       '2159 sqft', '1785 sqft', '2040 sqft', '3740 sqft', '4000 sqft',\n",
       "       '1815 sqft', '1120 sqft', '1600 sqft', '930 sqft', '1043 sqft',\n",
       "       '1505 sqft', '1375 sqft', '1675 sqft', '1748 sqft', '1550 sqft',\n",
       "       '2310 sqft', '2800 sqft', '1192 sqft', '3135 sqft', '900 sqft',\n",
       "       '1573 sqft', '2870 sqft', '1425 sqft', '2062 sqft', '2538 sqft',\n",
       "       '1880 sqft', '1700 sqft', '1870 sqft', '3625 sqft', '2050 sqft',\n",
       "       '2275 sqft', '1464 sqft', '250 sqm', '3180 sqft', '1200 sqft',\n",
       "       '1695 sqft', '1759 sqft', '2640 sqft', '1732 sqft', '550 sqft',\n",
       "       '1450 sqft', '1050 sqft', '950 sqft', '1465 sqft', '1925 sqft',\n",
       "       '3000 sqft', '360 sqft', '1715 sqft', '1497 sqft', '1592 sqft',\n",
       "       '1620 sqft', '3400 sqft', '2570 sqft', '1010 sqft', '1232 sqft',\n",
       "       '1356 sqft', '925 sqft', '1100 sqft', '1895 sqft', '1186 sqft',\n",
       "       '1960 sqft', '1410 sqft', '1525 sqft', '1935 sqft', '1074 sqft',\n",
       "       '495 sqft', '1705 sqft', '100 sqyrd', '1660 sqft', '3600 sqft',\n",
       "       '1060 sqft', '4500 sqft', '1396 sqft', '2700 sqft', '1635 sqft',\n",
       "       '750 sqft', '1223 sqft', '916 sqft', '3270 sqft', '2100 sqft',\n",
       "       '1445 sqft', '1135 sqft', '2970 sqft', '1240 sqft', '1625 sqft',\n",
       "       '1745 sqft', '89 sqm', '2850 sqft', '1495 sqft', '1460 sqft',\n",
       "       '2480 sqft', '1365 sqft', '1855 sqft', '2260 sqft', '6220 sqft',\n",
       "       '1835 sqft', '1370 sqft', '1947 sqft', '450 sqft', '2727 sqft',\n",
       "       '1780 sqft', '118 sqft', '1950 sqft', '1920 sqft', '1295 sqft',\n",
       "       '2000 sqft', '650 sqft', '1544 sqft', '1155 sqft', '1472 sqft',\n",
       "       '1758 sqft', '1360 sqft', '1310 sqft', '3980 sqft', '853 sqft',\n",
       "       '1080 sqft', '1735 sqft', '1305 sqft', '1224 sqft', '800 sqft',\n",
       "       '1180 sqft', '1390 sqft', '1385 sqft', '1280 sqft', '3300 sqft',\n",
       "       '1850 sqft', '1023 sqft', '700 sqft', '1377 sqft', '1182 sqft',\n",
       "       '1827 sqft', '100 sqm', '3682 sqft', '1690 sqft', '1530 sqft',\n",
       "       '1563 sqft', '1040 sqft', '2283 sqft', '3640 sqft', '3800 sqft',\n",
       "       '1260 sqft', '1340 sqft', '2625 sqft', '1710 sqft', '5000 sqft',\n",
       "       '1276 sqft', '1613 sqft', '3131 sqft', '827 sqft', '1520 sqft',\n",
       "       '2148 sqft', '1326 sqft', '1666 sqft', '600 sqft', '483 sqm',\n",
       "       '1267 sqft', '1432 sqft', '934 sqft', '1160 sqft', '1750 sqft',\n",
       "       '590 sqft', '2988 sqft', '1320 sqft', '400 sqm', '1003 sqft',\n",
       "       '475 sqm', '1165 sqft', '3500 sqft', '3277 sqft', '1595 sqft',\n",
       "       '723 sqft', '320 sqm', '1345 sqft', '2123 sqft', '3750 sqft',\n",
       "       '1655 sqft', '2548 sqft', '2180 sqft', '1429 sqft', '2300 sqft',\n",
       "       '585 sqft', '1045 sqft', '1296 sqft', '162 sqm', '1685 sqft',\n",
       "       '1335 sqft', '966 sqft', '2380 sqft', '2675 sqft', '130 sqm',\n",
       "       '2245 sqft', '1105 sqft', '965 sqft', '1420 sqft', '2235 sqft',\n",
       "       '2088 sqft', '500 sqft', '220 sqm', '1025 sqft', '725 sqft',\n",
       "       '1347 sqft', '440 sqft', '2328 sqft', '1610 sqft', '150 sqm',\n",
       "       '1428 sqft', '1521 sqft', '1654 sqft', '2080 sqft', '1405 sqft',\n",
       "       '1090 sqft', '1246 sqft', '3905 sqft', '210 sqm', '2483 sqft',\n",
       "       '1545 sqft', '2090 sqft', '939 sqft', '1455 sqft', '1575 sqft',\n",
       "       '1110 sqft', '2223 sqft', '1873 sqft', '540 sqft', '1430 sqft',\n",
       "       '1162 sqft', '1846 sqft', '2450 sqft', '2315 sqft', '1325 sqft',\n",
       "       '1510 sqft', '1962 sqft', '2250 sqft', '1927 sqft', '1614 sqft',\n",
       "       '4025 sqft', '1404 sqft', '3165 sqft', '1185 sqft', '40 sqft',\n",
       "       '1285 sqft', '1867 sqft', '3363 sqft', '470 sqft', '1480 sqft',\n",
       "       '995 sqft', '2070 sqft', '1387 sqft', '3650 sqft', '3950 sqft',\n",
       "       '1435 sqft', '4720 sqft', '1548 sqft', '1628 sqft', '112 sqm',\n",
       "       '1140 sqft', '2495 sqft', '4613 sqft', '1075 sqft', '1656 sqft',\n",
       "       '3882 sqft', '2488 sqft', '324 sqft', '1580 sqft', '2475 sqft',\n",
       "       '91 sqm', '1741 sqft', '1406 sqft', '1820 sqft', '2075 sqft',\n",
       "       '620 sqft', '790 sqft', '480 sqft', '4600 sqft', '1230 sqft',\n",
       "       '1665 sqft', '1290 sqft', '990 sqft', '1648 sqft', '2018 sqft',\n",
       "       '1241 sqft', '1640 sqft', '2135 sqft', '1866 sqft', '1703 sqft',\n",
       "       '3223 sqft', '2289 sqft', '1070 sqft', '1856 sqft', '3198 sqft',\n",
       "       '225 sqft', '240 sqyrd', '42 sqm', nan, '777 sqft', '1680 sqft',\n",
       "       '1740 sqft', '1585 sqft', '6400 sqft', '50 sqft', '300 sqft',\n",
       "       '530 sqft', '37 sqm', '1125 sqft', '749 sqft', '1315 sqft',\n",
       "       '2810 sqft', '1535 sqft', '2030 sqft', '942 sqft', '110 sqm',\n",
       "       '455 sqft', '1540 sqft', '2055 sqft', '2563 sqft', '2010 sqft',\n",
       "       '1197 sqft', '1980 sqft', '3011 sqft', '2599 sqft', '30 sqm',\n",
       "       '1764 sqft', '1874 sqft', '3280 sqft', '1225 sqft', '160 sqm',\n",
       "       '1765 sqft', '72 sqm', '2565 sqft', '1054 sqft', '1124 sqft',\n",
       "       '165 sqm', '380 sqft', '2511 sqft', '3100 sqft', '2410 sqft',\n",
       "       '3302 sqft', '2190 sqft', '1725 sqft', '885 sqft', '3195 sqft',\n",
       "       '2550 sqft', '5500 sqft', '1475 sqft', '1507 sqft', '1415 sqft',\n",
       "       '1865 sqft', '670 sqft', '1255 sqft', '1897 sqft', '104 sqyrd',\n",
       "       '113 sqm', '3250 sqft', '580 sqft', '1458 sqft', '7500 sqft',\n",
       "       '1354 sqft', '4900 sqft', '7114 sqft', '150 sqft', '909 sqft',\n",
       "       '3550 sqft', '153 sqm', '1791 sqft', '490 sqft', '160 sqyrd',\n",
       "       '1392 sqft', '475 sqft', '161 sqm', '180 sqft', '1117 sqft',\n",
       "       '1209 sqft', '828 sqft', '40 sqm', '130 sqft', '2950 sqft',\n",
       "       '1840 sqft', '608 sqft', '5300 sqft', '1457 sqft', '110 sqyrd',\n",
       "       '2280 sqft', '850 sqft', '1555 sqft', '2330 sqft', '1318 sqft',\n",
       "       '29 sqm', '648 sqft', '1088 sqft', '1235 sqft', '140 sqyrd',\n",
       "       '40 sqyrd', '252 sqm', '1528 sqft', '1670 sqft', '775 sqft',\n",
       "       '1623 sqft', '4465 sqft', '980 sqft', '1798 sqft', '2907 sqft',\n",
       "       '5200 sqft', '695 sqft', '2820 sqft', '1175 sqft', '1007 sqft',\n",
       "       '193 sqm', '960 sqft', '1754 sqft', '520 sqft', '630 sqft',\n",
       "       '127 sqft', '722 sqft', '1368 sqft', '6250 sqft', '270 sqft',\n",
       "       '2420 sqft', '1173 sqft', '1912 sqft', '944 sqft', '2175 sqft',\n",
       "       '2555 sqft', '2825 sqft', '1790 sqft', '2432 sqft', '1945 sqft',\n",
       "       '3025 sqft', '2440 sqft', '1316 sqft', '894 sqft', '410 sqft',\n",
       "       '1930 sqft', '1682 sqft', '159 sqm', '1134 sqft', '1470 sqft',\n",
       "       '30 sqyrd', '323 sqft', '6001 sqft', '1664 sqft', '494 sqft',\n",
       "       '624 sqft', '1824 sqft', '2750 sqft', '2770 sqft', '1875 sqft',\n",
       "       '3062 sqft', '2169 sqft', '1683 sqft', '1760 sqft', '119 sqft',\n",
       "       '1849 sqft', '1908 sqft', '535 sqft', '1890 sqft', '1256 sqft',\n",
       "       '1615 sqft', '4910 sqft', '975 sqft', '1568 sqft', '1839 sqft',\n",
       "       '1851 sqft', '1334 sqft', '1862 sqft', '2385 sqft', '2473 sqft',\n",
       "       '888 sqft', '1490 sqft', '7000 sqft', '1462 sqft', '4315 sqft',\n",
       "       '1564 sqft', '1868 sqft', '1955 sqft', '2091 sqft', '4200 sqft',\n",
       "       '1441 sqft', '852 sqft', '35 sqm', '200 sqyrd', '1330 sqft',\n",
       "       '1720 sqft', '2031 sqft', '615 sqft', '1257 sqft', '375 sqft',\n",
       "       '2125 sqft', '1591 sqft', '1661 sqft', '1220 sqft', '6230 sqft',\n",
       "       '3080 sqft', '47 sqm', '25 sqft', '1 sqft', '4300 sqft',\n",
       "       '2955 sqft', '2145 sqft', '6050 sqft', '250 sqft', '2268 sqft',\n",
       "       '215 sqm', '4482 sqft', '170 sqm', '172 sqm', '1436 sqft',\n",
       "       '2772 sqft', '1145 sqft', '4405 sqft', '3027 sqft', '1965 sqft',\n",
       "       '963 sqft', '305 sqft', '3007 sqft', '570 sqft', '54 sqyrd',\n",
       "       '1646 sqft', '940 sqft', '1630 sqft', '157 sqm', '151 sqm',\n",
       "       '24 sqm', '32 sqm', '28 sqm', '3891 sqft', '200 sqft', '446 sqft',\n",
       "       '51 sqft', '560 sqft', '2130 sqft', '180 sqyrd', '4700 sqft',\n",
       "       '90 sqm', '1599 sqft', '1515 sqft', '180 sqm', '1552 sqft',\n",
       "       '1373 sqft', '258 sqft', '350 sqft', '50 sqm', '62 sqm',\n",
       "       '78 sqyrd', '584 sqft', '1689 sqft', '6000 sqft', '1366 sqft',\n",
       "       '1216 sqft', '1206 sqft', '1743 sqft', '1210 sqft', '266 sqft',\n",
       "       '265 sqft', '2325 sqft', '137 sqm', '787 sqft', '2616 sqft',\n",
       "       '2587 sqft', '1258 sqft', '1459 sqft', '2095 sqft', '1265 sqft',\n",
       "       '33 sqyrd', '2304 biswa2', '1181 sqft', '970 sqft', '1492 sqft',\n",
       "       '1975 sqft', '3900 sqft', '30 sqft', '3222 sqft', '2775 sqft',\n",
       "       '1234 sqft', '152 sqyrd', '5695 sqft', '60 sqyrd', '202 sqm',\n",
       "       '28,000 sqft', '2132 sqft', '100 sqft', '1776 sqft', '2801 sqft',\n",
       "       '3631 sqft', '1806 sqft', '3670 sqft', '1194 sqft', '8000 sqft',\n",
       "       '223 sqm'], dtype=object)"
      ]
     },
     "execution_count": 74,
     "metadata": {},
     "output_type": "execute_result"
    }
   ],
   "execution_count": 74
  },
  {
   "metadata": {
    "ExecuteTime": {
     "end_time": "2025-10-16T12:08:52.940964Z",
     "start_time": "2025-10-16T12:08:52.933588Z"
    }
   },
   "cell_type": "code",
   "source": [
    "# --- Define Area Cleaning Function ---\n",
    "def clean_area(area_str):\n",
    "    if pd.isna(area_str):\n",
    "        return np.nan\n",
    "\n",
    "    # Remove everything inside parentheses (e.g., '2 BHK (1000 sqyrd)')\n",
    "    area_str = re.sub(r'\\([^)]*\\)', '', str(area_str))\n",
    "\n",
    "    # Extract the numeric value\n",
    "    match = re.search(r\"(\\d{1,3}(,\\d{3})*(\\.\\d+)?)\\s*(sqft|sq m|sqyrd)\", area_str, re.IGNORECASE)\n",
    "\n",
    "    if match:\n",
    "        value = float(match.group(1).replace(',', ''))\n",
    "        unit = match.group(4).lower()\n",
    "\n",
    "        if 'sqft' in unit:\n",
    "            return value  # Already in sqft\n",
    "        elif 'sqyrd' in unit:\n",
    "            return value * 9.0  # 1 sqyrd = 9 sqft\n",
    "        elif 'sqm' in unit:\n",
    "            return value * 10.764 # 1 sq m = 10.764 sqft\n",
    "        else:\n",
    "            return value\n",
    "    else:\n",
    "        return np.nan"
   ],
   "id": "5fed7292c5b324b4",
   "outputs": [],
   "execution_count": 75
  },
  {
   "metadata": {
    "ExecuteTime": {
     "end_time": "2025-10-16T12:08:53.630530Z",
     "start_time": "2025-10-16T12:08:53.600132Z"
    }
   },
   "cell_type": "code",
   "source": "df_scraped['area_sqft'] = df_scraped['area_raw'].apply(clean_area)",
   "id": "c2328121452cc76e",
   "outputs": [],
   "execution_count": 76
  },
  {
   "metadata": {
    "ExecuteTime": {
     "end_time": "2025-10-16T12:08:53.752670Z",
     "start_time": "2025-10-16T12:08:53.736256Z"
    }
   },
   "cell_type": "code",
   "source": "df_scraped['area_sqft'].value_counts()",
   "id": "9a83030a94f0a2cb",
   "outputs": [
    {
     "data": {
      "text/plain": [
       "area_sqft\n",
       "0.0      155\n",
       "500.0    131\n",
       "200.0    128\n",
       "300.0    126\n",
       "400.0     95\n",
       "        ... \n",
       "206.0      1\n",
       "210.0      1\n",
       "266.0      1\n",
       "787.0      1\n",
       "616.0      1\n",
       "Name: count, Length: 404, dtype: int64"
      ]
     },
     "execution_count": 77,
     "metadata": {},
     "output_type": "execute_result"
    }
   ],
   "execution_count": 77
  },
  {
   "metadata": {
    "ExecuteTime": {
     "end_time": "2025-10-16T12:08:53.973470Z",
     "start_time": "2025-10-16T12:08:53.958671Z"
    }
   },
   "cell_type": "code",
   "source": "df_scraped['area_sqft'].describe()",
   "id": "67b482de88399628",
   "outputs": [
    {
     "data": {
      "text/plain": [
       "count     2990.000000\n",
       "mean       453.883612\n",
       "std        577.484687\n",
       "min          0.000000\n",
       "25%        200.000000\n",
       "50%        415.000000\n",
       "75%        700.000000\n",
       "max      28000.000000\n",
       "Name: area_sqft, dtype: float64"
      ]
     },
     "execution_count": 78,
     "metadata": {},
     "output_type": "execute_result"
    }
   ],
   "execution_count": 78
  },
  {
   "metadata": {
    "ExecuteTime": {
     "end_time": "2025-10-16T12:08:54.356716Z",
     "start_time": "2025-10-16T12:08:54.350436Z"
    }
   },
   "cell_type": "code",
   "source": "df_scraped = df_scraped.drop(columns = ['area_raw'])",
   "id": "85ecd95e83915453",
   "outputs": [],
   "execution_count": 79
  },
  {
   "metadata": {
    "ExecuteTime": {
     "end_time": "2025-10-16T12:08:54.465210Z",
     "start_time": "2025-10-16T12:08:54.456637Z"
    }
   },
   "cell_type": "code",
   "source": "df_scraped['floor'].head()",
   "id": "45fec39d1505a0f2",
   "outputs": [
    {
     "data": {
      "text/plain": [
       "0    10 out of 21\n",
       "1     3 out of 30\n",
       "2     6 out of 29\n",
       "3     4 out of 29\n",
       "4              16\n",
       "Name: floor, dtype: object"
      ]
     },
     "execution_count": 80,
     "metadata": {},
     "output_type": "execute_result"
    }
   ],
   "execution_count": 80
  },
  {
   "metadata": {
    "ExecuteTime": {
     "end_time": "2025-10-16T12:11:44.010577Z",
     "start_time": "2025-10-16T12:11:44.001314Z"
    }
   },
   "cell_type": "code",
   "source": [
    "def extract_floor_details(text):\n",
    "    if pd.isna(text):\n",
    "        return (np.nan, np.nan)\n",
    "\n",
    "    text = text.lower().strip()\n",
    "\n",
    "    # Case 1: Matches patterns like \"3 out of 10\", \"5 of 12\", \"3 / 10\"\n",
    "    match = re.search(r'(\\d+)\\s*(?:out of|of|/)\\s*(\\d+)', text)\n",
    "    if match:\n",
    "        return (float(match.group(1)), float(match.group(2)))\n",
    "\n",
    "    # Case 2: Matches floor number only — e.g., \"3rd floor\", \"5th\", \"16 floor\", or even just \"16\"\n",
    "    match = re.search(r'(\\d+)(?:st|nd|rd|th)?(?:\\s*floor)?', text)\n",
    "    if match:\n",
    "        return (float(match.group(1)), np.nan)\n",
    "\n",
    "    # Case 3: Special floor names\n",
    "    if \"ground\" in text:\n",
    "        return (0.0, np.nan)\n",
    "    if \"basement\" in text:\n",
    "        return (-1.0, np.nan)\n",
    "    if \"lower\" in text:\n",
    "        return (-2.0, np.nan)\n",
    "    if \"upper\" in text:\n",
    "        return (1.0, np.nan)\n",
    "\n",
    "    return (np.nan, np.nan)"
   ],
   "id": "a26397a8f2b1e2f7",
   "outputs": [],
   "execution_count": 89
  },
  {
   "metadata": {
    "ExecuteTime": {
     "end_time": "2025-10-16T12:11:45.317242Z",
     "start_time": "2025-10-16T12:11:44.696596Z"
    }
   },
   "cell_type": "code",
   "source": "df_scraped[['floor_no', 'total_floors']] = df_scraped['floor'].apply(lambda x: pd.Series(extract_floor_details(x)))",
   "id": "578d7e88acb758a0",
   "outputs": [],
   "execution_count": 90
  },
  {
   "metadata": {
    "ExecuteTime": {
     "end_time": "2025-10-16T12:11:46.444741Z",
     "start_time": "2025-10-16T12:11:46.428074Z"
    }
   },
   "cell_type": "code",
   "source": "df_scraped[['floor','floor_no','total_floors']].head()",
   "id": "9eb397f38f4b4f66",
   "outputs": [
    {
     "data": {
      "text/plain": [
       "          floor  floor_no  total_floors\n",
       "0  10 out of 21      10.0          21.0\n",
       "1   3 out of 30       3.0          30.0\n",
       "2   6 out of 29       6.0          29.0\n",
       "3   4 out of 29       4.0          29.0\n",
       "4            16      16.0           NaN"
      ],
      "text/html": [
       "<div>\n",
       "<style scoped>\n",
       "    .dataframe tbody tr th:only-of-type {\n",
       "        vertical-align: middle;\n",
       "    }\n",
       "\n",
       "    .dataframe tbody tr th {\n",
       "        vertical-align: top;\n",
       "    }\n",
       "\n",
       "    .dataframe thead th {\n",
       "        text-align: right;\n",
       "    }\n",
       "</style>\n",
       "<table border=\"1\" class=\"dataframe\">\n",
       "  <thead>\n",
       "    <tr style=\"text-align: right;\">\n",
       "      <th></th>\n",
       "      <th>floor</th>\n",
       "      <th>floor_no</th>\n",
       "      <th>total_floors</th>\n",
       "    </tr>\n",
       "  </thead>\n",
       "  <tbody>\n",
       "    <tr>\n",
       "      <th>0</th>\n",
       "      <td>10 out of 21</td>\n",
       "      <td>10.0</td>\n",
       "      <td>21.0</td>\n",
       "    </tr>\n",
       "    <tr>\n",
       "      <th>1</th>\n",
       "      <td>3 out of 30</td>\n",
       "      <td>3.0</td>\n",
       "      <td>30.0</td>\n",
       "    </tr>\n",
       "    <tr>\n",
       "      <th>2</th>\n",
       "      <td>6 out of 29</td>\n",
       "      <td>6.0</td>\n",
       "      <td>29.0</td>\n",
       "    </tr>\n",
       "    <tr>\n",
       "      <th>3</th>\n",
       "      <td>4 out of 29</td>\n",
       "      <td>4.0</td>\n",
       "      <td>29.0</td>\n",
       "    </tr>\n",
       "    <tr>\n",
       "      <th>4</th>\n",
       "      <td>16</td>\n",
       "      <td>16.0</td>\n",
       "      <td>NaN</td>\n",
       "    </tr>\n",
       "  </tbody>\n",
       "</table>\n",
       "</div>"
      ]
     },
     "execution_count": 91,
     "metadata": {},
     "output_type": "execute_result"
    }
   ],
   "execution_count": 91
  },
  {
   "metadata": {
    "ExecuteTime": {
     "end_time": "2025-10-16T12:08:55.192038Z",
     "start_time": "2025-10-16T11:50:07.607870Z"
    }
   },
   "cell_type": "code",
   "source": "df_scraped['bhk'].value_counts()",
   "id": "9ad9027df73803c3",
   "outputs": [
    {
     "data": {
      "text/plain": [
       "bhk\n",
       "3    2022\n",
       "4     791\n",
       "5     219\n",
       "1     181\n",
       "Name: count, dtype: int64"
      ]
     },
     "execution_count": 49,
     "metadata": {},
     "output_type": "execute_result"
    }
   ],
   "execution_count": 49
  },
  {
   "metadata": {
    "ExecuteTime": {
     "end_time": "2025-10-16T13:51:39.812031Z",
     "start_time": "2025-10-16T13:51:39.801898Z"
    }
   },
   "cell_type": "code",
   "source": "df_scraped['locality'].isna().value_counts()",
   "id": "c4826aa9b3a65e8f",
   "outputs": [
    {
     "data": {
      "text/plain": [
       "locality\n",
       "False    3213\n",
       "Name: count, dtype: int64"
      ]
     },
     "execution_count": 95,
     "metadata": {},
     "output_type": "execute_result"
    }
   ],
   "execution_count": 95
  },
  {
   "metadata": {
    "ExecuteTime": {
     "end_time": "2025-10-16T13:55:06.743570Z",
     "start_time": "2025-10-16T13:55:06.706622Z"
    }
   },
   "cell_type": "code",
   "source": [
    "# Price is in Lakhs, so we must multiply by 100,000 to get total Rupees before dividing by area\n",
    "# New Column: price_per_sqft\n",
    "df_scraped['price_per_sqft'] = (df_scraped['price_in_lacs'] * 100000) / df_scraped['area_sqft']"
   ],
   "id": "481efab331604dca",
   "outputs": [],
   "execution_count": 99
  },
  {
   "metadata": {
    "ExecuteTime": {
     "end_time": "2025-10-16T13:55:22.197129Z",
     "start_time": "2025-10-16T13:55:22.186744Z"
    }
   },
   "cell_type": "code",
   "source": "df_scraped['price_per_sqft'].head()",
   "id": "b8930921378befb7",
   "outputs": [
    {
     "data": {
      "text/plain": [
       "0     88000.000000\n",
       "1     53191.489362\n",
       "2    101973.684211\n",
       "3    985294.117647\n",
       "4     27000.000000\n",
       "Name: price_per_sqft, dtype: float64"
      ]
     },
     "execution_count": 101,
     "metadata": {},
     "output_type": "execute_result"
    }
   ],
   "execution_count": 101
  },
  {
   "metadata": {},
   "cell_type": "markdown",
   "source": "Imputing missing area",
   "id": "7472454cddfef583"
  },
  {
   "metadata": {
    "ExecuteTime": {
     "end_time": "2025-10-16T14:15:15.279264Z",
     "start_time": "2025-10-16T14:15:15.030349Z"
    }
   },
   "cell_type": "code",
   "source": "df_scraped['area_sqft'].isna().sum()",
   "id": "9fdd9d186bcc6d7",
   "outputs": [
    {
     "data": {
      "text/plain": [
       "np.int64(223)"
      ]
     },
     "execution_count": 102,
     "metadata": {},
     "output_type": "execute_result"
    }
   ],
   "execution_count": 102
  },
  {
   "metadata": {
    "ExecuteTime": {
     "end_time": "2025-10-16T14:25:00.254987Z",
     "start_time": "2025-10-16T14:24:59.921217Z"
    }
   },
   "cell_type": "code",
   "source": [
    "import seaborn as sns\n",
    "sns.kdeplot(df_scraped['area_sqft'])"
   ],
   "id": "1713809dfb4102d6",
   "outputs": [
    {
     "data": {
      "text/plain": [
       "<Axes: xlabel='area_sqft', ylabel='Density'>"
      ]
     },
     "execution_count": 106,
     "metadata": {},
     "output_type": "execute_result"
    },
    {
     "data": {
      "text/plain": [
       "<Figure size 640x480 with 1 Axes>"
      ],
      "image/png": "[encoded data removed]"
     },
     "metadata": {},
     "output_type": "display_data",
     "jetTransient": {
      "display_id": null
     }
    }
   ],
   "execution_count": 106
  },
  {
   "metadata": {
    "ExecuteTime": {
     "end_time": "2025-10-16T14:34:35.030054Z",
     "start_time": "2025-10-16T14:34:34.981754Z"
    }
   },
   "cell_type": "code",
   "source": [
    "from sklearn.impute import SimpleImputer\n",
    "area_imputer = SimpleImputer(strategy='median')\n",
    "df_scraped['area_sqft_imputed'] = area_imputer.fit_transform(df_scraped[['area_sqft']])"
   ],
   "id": "a522803c769dc7a1",
   "outputs": [],
   "execution_count": 109
  },
  {
   "metadata": {
    "ExecuteTime": {
     "end_time": "2025-10-16T14:35:56.861919Z",
     "start_time": "2025-10-16T14:35:56.841171Z"
    }
   },
   "cell_type": "code",
   "source": "df_scraped['area_sqft_imputed'].isna().sum()",
   "id": "3b820baec187882f",
   "outputs": [
    {
     "data": {
      "text/plain": [
       "np.int64(0)"
      ]
     },
     "execution_count": 111,
     "metadata": {},
     "output_type": "execute_result"
    }
   ],
   "execution_count": 111
  },
  {
   "metadata": {
    "ExecuteTime": {
     "end_time": "2025-10-16T14:37:31.654634Z",
     "start_time": "2025-10-16T14:37:31.551745Z"
    }
   },
   "cell_type": "code",
   "source": "df_scraped = df_scraped.drop(columns=['area_sqft'])",
   "id": "d9fdccf3b1f5f486",
   "outputs": [],
   "execution_count": 112
  },
  {
   "metadata": {
    "ExecuteTime": {
     "end_time": "2025-10-16T14:39:07.828798Z",
     "start_time": "2025-10-16T14:39:07.641265Z"
    }
   },
   "cell_type": "code",
   "source": [
    "missing_report = df_scraped.isna().sum().sort_values(ascending=False)\n",
    "\n",
    "# Filter the report to only show columns with missing values and display as a percentage\n",
    "missing_data = missing_report[missing_report > 0]\n",
    "missing_data_pct = (missing_data / len(df_scraped)) * 100\n",
    "\n",
    "print(\"--- Missing Value Report (Count and Percentage) ---\")\n",
    "missing_df = pd.DataFrame({\n",
    "    'Missing Count': missing_data,\n",
    "    'Missing %': missing_data_pct.round(2)\n",
    "})\n",
    "\n",
    "print(missing_df)"
   ],
   "id": "2ca60cbd955481fb",
   "outputs": [
    {
     "name": "stdout",
     "output_type": "stream",
     "text": [
      "--- Missing Value Report (Count and Percentage) ---\n",
      "                Missing Count  Missing %\n",
      "facing                   1239      38.56\n",
      "status                    746      23.22\n",
      "total_floors              731      22.75\n",
      "floor                     600      18.67\n",
      "floor_no                  600      18.67\n",
      "price_per_sqft            285       8.87\n",
      "furnishing                139       4.33\n",
      "price_in_lacs              71       2.21\n",
      "transaction                 5       0.16\n"
     ]
    }
   ],
   "execution_count": 113
  },
  {
   "metadata": {},
   "cell_type": "markdown",
   "source": "Imputing Numeric Columns (total_floors & price_per_sqft)",
   "id": "e91245051571df88"
  },
  {
   "metadata": {
    "ExecuteTime": {
     "end_time": "2025-10-16T14:49:05.580858Z",
     "start_time": "2025-10-16T14:49:05.506690Z"
    }
   },
   "cell_type": "code",
   "source": [
    "df_scraped.replace([np.inf, -np.inf], np.nan, inplace=True)\n",
    "median_imputer = SimpleImputer(strategy='median')\n",
    "df_scraped['price_per_sqft'] = median_imputer.fit_transform(df_scraped[['price_per_sqft']])"
   ],
   "id": "fa1f0418ae85ad55",
   "outputs": [],
   "execution_count": 119
  },
  {
   "metadata": {
    "ExecuteTime": {
     "end_time": "2025-10-16T14:50:18.078156Z",
     "start_time": "2025-10-16T14:50:18.043802Z"
    }
   },
   "cell_type": "code",
   "source": [
    "# 1. Impute total_floors\n",
    "df_scraped['total_floors'] = median_imputer.fit_transform(df_scraped[['total_floors']])\n",
    "\n",
    "# 'facing' (33.42% missing) -> Fill with the explicit category 'Missing'\n",
    "df_scraped['facing'] = df_scraped['facing'].fillna('Missing')\n",
    "\n",
    "# 'status' (0.03% missing) -> Fill with the explicit category 'Unknown'\n",
    "df_scraped['status'] = df_scraped['status'].fillna('Unknown')"
   ],
   "id": "94e878d632025362",
   "outputs": [],
   "execution_count": 120
  },
  {
   "metadata": {
    "ExecuteTime": {
     "end_time": "2025-10-16T14:55:45.803806Z",
     "start_time": "2025-10-16T14:55:45.791583Z"
    }
   },
   "cell_type": "code",
   "source": [
    "df_scraped['floor_number'] = df_scraped['floor_no'].astype('Int64')\n",
    "df_scraped['total_floors'] = df_scraped['total_floors'].astype('Int64')"
   ],
   "id": "3ba34c63980d0c21",
   "outputs": [],
   "execution_count": 124
  },
  {
   "metadata": {
    "ExecuteTime": {
     "end_time": "2025-10-16T15:24:47.489637Z",
     "start_time": "2025-10-16T15:24:47.435830Z"
    }
   },
   "cell_type": "code",
   "source": "df_scraped[['floor', 'floor_number', 'floor_no', 'total_floors']].head()",
   "id": "52d8c1ad0b569e14",
   "outputs": [
    {
     "data": {
      "text/plain": [
       "          floor  floor_number  floor_no  total_floors\n",
       "0  10 out of 21            10      10.0            21\n",
       "1   3 out of 30             3       3.0            30\n",
       "2   6 out of 29             6       6.0            29\n",
       "3   4 out of 29             4       4.0            29\n",
       "4            16            16      16.0            22"
      ],
      "text/html": [
       "<div>\n",
       "<style scoped>\n",
       "    .dataframe tbody tr th:only-of-type {\n",
       "        vertical-align: middle;\n",
       "    }\n",
       "\n",
       "    .dataframe tbody tr th {\n",
       "        vertical-align: top;\n",
       "    }\n",
       "\n",
       "    .dataframe thead th {\n",
       "        text-align: right;\n",
       "    }\n",
       "</style>\n",
       "<table border=\"1\" class=\"dataframe\">\n",
       "  <thead>\n",
       "    <tr style=\"text-align: right;\">\n",
       "      <th></th>\n",
       "      <th>floor</th>\n",
       "      <th>floor_number</th>\n",
       "      <th>floor_no</th>\n",
       "      <th>total_floors</th>\n",
       "    </tr>\n",
       "  </thead>\n",
       "  <tbody>\n",
       "    <tr>\n",
       "      <th>0</th>\n",
       "      <td>10 out of 21</td>\n",
       "      <td>10</td>\n",
       "      <td>10.0</td>\n",
       "      <td>21</td>\n",
       "    </tr>\n",
       "    <tr>\n",
       "      <th>1</th>\n",
       "      <td>3 out of 30</td>\n",
       "      <td>3</td>\n",
       "      <td>3.0</td>\n",
       "      <td>30</td>\n",
       "    </tr>\n",
       "    <tr>\n",
       "      <th>2</th>\n",
       "      <td>6 out of 29</td>\n",
       "      <td>6</td>\n",
       "      <td>6.0</td>\n",
       "      <td>29</td>\n",
       "    </tr>\n",
       "    <tr>\n",
       "      <th>3</th>\n",
       "      <td>4 out of 29</td>\n",
       "      <td>4</td>\n",
       "      <td>4.0</td>\n",
       "      <td>29</td>\n",
       "    </tr>\n",
       "    <tr>\n",
       "      <th>4</th>\n",
       "      <td>16</td>\n",
       "      <td>16</td>\n",
       "      <td>16.0</td>\n",
       "      <td>22</td>\n",
       "    </tr>\n",
       "  </tbody>\n",
       "</table>\n",
       "</div>"
      ]
     },
     "execution_count": 141,
     "metadata": {},
     "output_type": "execute_result"
    }
   ],
   "execution_count": 141
  },
  {
   "metadata": {
    "ExecuteTime": {
     "end_time": "2025-10-16T15:31:27.636583Z",
     "start_time": "2025-10-16T15:31:27.592168Z"
    }
   },
   "cell_type": "code",
   "source": [
    "mode_imputer = SimpleImputer(strategy='most_frequent')\n",
    "df_scraped['floor_number'] = median_imputer.fit_transform(df_scraped[['floor_number']]).ravel()\n",
    "df_scraped['furnishing'] = mode_imputer.fit_transform(df_scraped[['furnishing']]).ravel()\n",
    "df_scraped['furnishing'] = df_scraped['furnishing'].astype(str)\n",
    "df_scraped['transaction'] = mode_imputer.fit_transform(df_scraped[['transaction']]).ravel()\n",
    "df_scraped['transaction'] = df_scraped['transaction'].astype(str)"
   ],
   "id": "13fdddab81df6a05",
   "outputs": [],
   "execution_count": 146
  },
  {
   "metadata": {
    "ExecuteTime": {
     "end_time": "2025-10-16T15:31:42.866511Z",
     "start_time": "2025-10-16T15:31:42.829010Z"
    }
   },
   "cell_type": "code",
   "source": [
    "df_scraped['floor_number'] = df_scraped['floor_number'].astype('Int64', errors='ignore')\n",
    "df_scraped['total_floors'] = df_scraped['total_floors'].astype('Int64', errors='ignore')"
   ],
   "id": "5995b2527d6f29d",
   "outputs": [],
   "execution_count": 147
  },
  {
   "metadata": {
    "ExecuteTime": {
     "end_time": "2025-10-16T15:32:54.417184Z",
     "start_time": "2025-10-16T15:32:54.378188Z"
    }
   },
   "cell_type": "code",
   "source": "df_scraped[['floor_number', 'floor_no', 'floor', 'total_floors']]",
   "id": "17d82fb515fce635",
   "outputs": [
    {
     "data": {
      "text/plain": [
       "      floor_number  floor_no         floor  total_floors\n",
       "0               10      10.0  10 out of 21            21\n",
       "1                3       3.0   3 out of 30            30\n",
       "2                6       6.0   6 out of 29            29\n",
       "3                4       4.0   4 out of 29            29\n",
       "4               16      16.0            16            22\n",
       "...            ...       ...           ...           ...\n",
       "3208            10      10.0  10 out of 21            21\n",
       "3209            10      10.0  10 out of 21            21\n",
       "3210            10      10.0  10 out of 21            21\n",
       "3211            10      10.0  10 out of 21            21\n",
       "3212            10      10.0  10 out of 21            21\n",
       "\n",
       "[3213 rows x 4 columns]"
      ],
      "text/html": [
       "<div>\n",
       "<style scoped>\n",
       "    .dataframe tbody tr th:only-of-type {\n",
       "        vertical-align: middle;\n",
       "    }\n",
       "\n",
       "    .dataframe tbody tr th {\n",
       "        vertical-align: top;\n",
       "    }\n",
       "\n",
       "    .dataframe thead th {\n",
       "        text-align: right;\n",
       "    }\n",
       "</style>\n",
       "<table border=\"1\" class=\"dataframe\">\n",
       "  <thead>\n",
       "    <tr style=\"text-align: right;\">\n",
       "      <th></th>\n",
       "      <th>floor_number</th>\n",
       "      <th>floor_no</th>\n",
       "      <th>floor</th>\n",
       "      <th>total_floors</th>\n",
       "    </tr>\n",
       "  </thead>\n",
       "  <tbody>\n",
       "    <tr>\n",
       "      <th>0</th>\n",
       "      <td>10</td>\n",
       "      <td>10.0</td>\n",
       "      <td>10 out of 21</td>\n",
       "      <td>21</td>\n",
       "    </tr>\n",
       "    <tr>\n",
       "      <th>1</th>\n",
       "      <td>3</td>\n",
       "      <td>3.0</td>\n",
       "      <td>3 out of 30</td>\n",
       "      <td>30</td>\n",
       "    </tr>\n",
       "    <tr>\n",
       "      <th>2</th>\n",
       "      <td>6</td>\n",
       "      <td>6.0</td>\n",
       "      <td>6 out of 29</td>\n",
       "      <td>29</td>\n",
       "    </tr>\n",
       "    <tr>\n",
       "      <th>3</th>\n",
       "      <td>4</td>\n",
       "      <td>4.0</td>\n",
       "      <td>4 out of 29</td>\n",
       "      <td>29</td>\n",
       "    </tr>\n",
       "    <tr>\n",
       "      <th>4</th>\n",
       "      <td>16</td>\n",
       "      <td>16.0</td>\n",
       "      <td>16</td>\n",
       "      <td>22</td>\n",
       "    </tr>\n",
       "    <tr>\n",
       "      <th>...</th>\n",
       "      <td>...</td>\n",
       "      <td>...</td>\n",
       "      <td>...</td>\n",
       "      <td>...</td>\n",
       "    </tr>\n",
       "    <tr>\n",
       "      <th>3208</th>\n",
       "      <td>10</td>\n",
       "      <td>10.0</td>\n",
       "      <td>10 out of 21</td>\n",
       "      <td>21</td>\n",
       "    </tr>\n",
       "    <tr>\n",
       "      <th>3209</th>\n",
       "      <td>10</td>\n",
       "      <td>10.0</td>\n",
       "      <td>10 out of 21</td>\n",
       "      <td>21</td>\n",
       "    </tr>\n",
       "    <tr>\n",
       "      <th>3210</th>\n",
       "      <td>10</td>\n",
       "      <td>10.0</td>\n",
       "      <td>10 out of 21</td>\n",
       "      <td>21</td>\n",
       "    </tr>\n",
       "    <tr>\n",
       "      <th>3211</th>\n",
       "      <td>10</td>\n",
       "      <td>10.0</td>\n",
       "      <td>10 out of 21</td>\n",
       "      <td>21</td>\n",
       "    </tr>\n",
       "    <tr>\n",
       "      <th>3212</th>\n",
       "      <td>10</td>\n",
       "      <td>10.0</td>\n",
       "      <td>10 out of 21</td>\n",
       "      <td>21</td>\n",
       "    </tr>\n",
       "  </tbody>\n",
       "</table>\n",
       "<p>3213 rows × 4 columns</p>\n",
       "</div>"
      ]
     },
     "execution_count": 150,
     "metadata": {},
     "output_type": "execute_result"
    }
   ],
   "execution_count": 150
  },
  {
   "metadata": {
    "ExecuteTime": {
     "end_time": "2025-10-16T15:38:14.004202Z",
     "start_time": "2025-10-16T15:38:13.984910Z"
    }
   },
   "cell_type": "code",
   "source": "df_scraped.drop(columns = 'floor_no', inplace=True)",
   "id": "76e1b0da0bac2213",
   "outputs": [],
   "execution_count": 164
  },
  {
   "metadata": {
    "ExecuteTime": {
     "end_time": "2025-10-16T16:17:13.118221Z",
     "start_time": "2025-10-16T16:17:12.930502Z"
    }
   },
   "cell_type": "code",
   "source": "df_scraped.columns",
   "id": "78b25d5dd53bd703",
   "outputs": [
    {
     "data": {
      "text/plain": [
       "Index(['title', 'listing_url', 'status', 'floor', 'transaction', 'furnishing',\n",
       "       'facing', 'bhk', 'locality', 'property_id', 'scraped_timestamp',\n",
       "       'price_in_lacs', 'total_floors', 'price_per_sqft', 'area_sqft_imputed',\n",
       "       'floor_number'],\n",
       "      dtype='object')"
      ]
     },
     "execution_count": 165,
     "metadata": {},
     "output_type": "execute_result"
    }
   ],
   "execution_count": 165
  },
  {
   "metadata": {
    "ExecuteTime": {
     "end_time": "2025-10-16T16:27:47.502276Z",
     "start_time": "2025-10-16T16:27:47.350491Z"
    }
   },
   "cell_type": "code",
   "source": "df_scraped = df_scraped.drop(columns=['floor'], errors='ignore')",
   "id": "abe92f047669c0d9",
   "outputs": [],
   "execution_count": 166
  },
  {
   "metadata": {
    "ExecuteTime": {
     "end_time": "2025-10-16T20:30:57.787093Z",
     "start_time": "2025-10-16T20:30:57.276552Z"
    }
   },
   "cell_type": "code",
   "source": [
    "df_scraped.to_csv(\"cleaned_noida_listings.csv\", index=False)\n",
    "print(\"Cleaned data saved\")"
   ],
   "id": "272a93ca36fd8279",
   "outputs": [
    {
     "name": "stdout",
     "output_type": "stream",
     "text": [
      "Cleaned data saved\n"
     ]
    }
   ],
   "execution_count": 167
  }
 ],
 "metadata": {
  "kernelspec": {
   "display_name": "Python 3",
   "language": "python",
   "name": "python3"
  },
  "language_info": {
   "codemirror_mode": {
    "name": "ipython",
    "version": 2
   },
   "file_extension": ".py",
   "mimetype": "text/x-python",
   "name": "python",
   "nbconvert_exporter": "python",
   "pygments_lexer": "ipython2",
   "version": "2.7.6"
  }
 },
 "nbformat": 4,
 "nbformat_minor": 5
}
